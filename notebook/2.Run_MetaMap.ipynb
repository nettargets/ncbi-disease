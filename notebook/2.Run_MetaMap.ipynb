{
 "cells": [
  {
   "cell_type": "markdown",
   "id": "optical-plain",
   "metadata": {},
   "source": [
    "# RUN MetaMapLite with NCBI Disease corpus"
   ]
  },
  {
   "cell_type": "code",
   "execution_count": 6,
   "id": "catholic-texas",
   "metadata": {},
   "outputs": [],
   "source": [
    "import os,sys,json,re\n",
    "from tqdm import tqdm"
   ]
  },
  {
   "cell_type": "code",
   "execution_count": 8,
   "id": "scheduled-coupon",
   "metadata": {
    "tags": [
     "parameters"
    ]
   },
   "outputs": [],
   "source": [
    "input_file='../data/NCBItestset_corpus.nd.json'\n",
    "output_file='../data/MetaMap_output.nd.json'"
   ]
  },
  {
   "cell_type": "code",
   "execution_count": 7,
   "id": "north-engagement",
   "metadata": {},
   "outputs": [],
   "source": [
    "import subprocess\n",
    "def metamaplite(text):\n",
    "    semtypes=\"chem,neop,sosy,dsyn,nusq,gngm,amas,crbs,mosq,moft,phsf,orch,phsu\"\n",
    "    sources=(\"AIR,AOD,CHV,COSTAR,CSP,CST,DXP,ICD10CM,LCH_NW,LNC,MEDLINEPLUS,\"\n",
    "        \"MSH,MTH,MTHICD9,NCI,NCI_CTCAE,NCI_FDA,NCI_NICHD,NDFRT,NLMSubSyn,SNM,\"\n",
    "        \"SNMI,SNOMEDCT_US,SNOMEDCT_VET\")\n",
    "\n",
    "    cmd=(\"docker exec -i cnt_metamap2020nt /opt/public_mm_lite/metamaplite.sh \"\n",
    "        \"--outputformat=mmi --scheduler \"\n",
    "        \"--modelsdir=/opt/public_mm_lite/data/models \"\n",
    "        \"--configfile=/opt/public_mm_lite/config/metamaplite.properties \"\n",
    "        \"--specialtermsfile=/opt/public_mm_lite/data/specialterms.txt \"\n",
    "        \"--indexdir=/opt/public_mm_lite/data/ivf/2020AA/Base \"\n",
    "        \"--restrict_to_sts={} \"\n",
    "        \"--restrict_to_sources={} \"\n",
    "        \"--\").format(semtypes, sources)\n",
    "\n",
    "    process = subprocess.Popen(cmd.split(), stdin=subprocess.PIPE, \n",
    "                               stdout=subprocess.PIPE, stderr=subprocess.PIPE)\n",
    "    result, _ = process.communicate(text.encode(encoding='UTF-8'))\n",
    "    \n",
    "    concepts=[]\n",
    "    for row in result.strip().decode('UTF-8').split('\\n'):\n",
    "        mmi=row.split(\"|\")\n",
    "        if len(mmi) == 11:\n",
    "            obj={\n",
    "                \"cui\": mmi[4],\n",
    "                \"name\": mmi[3],\n",
    "                \"score\": mmi[2],\n",
    "                \"pos_info\": mmi[8],\n",
    "                \"semtypes\": mmi[5][1:-1].split(','),\n",
    "                \"trigger\": mmi[6]\n",
    "            }\n",
    "            concepts.append(obj)\n",
    "        \n",
    "    return concepts"
   ]
  },
  {
   "cell_type": "code",
   "execution_count": 9,
   "id": "expected-leeds",
   "metadata": {},
   "outputs": [
    {
     "data": {
      "text/plain": [
       "100"
      ]
     },
     "execution_count": 9,
     "metadata": {},
     "output_type": "execute_result"
    }
   ],
   "source": [
    "data=[json.loads(line) for line in open(input_file)]\n",
    "len(data)"
   ]
  },
  {
   "cell_type": "code",
   "execution_count": 10,
   "id": "infinite-october",
   "metadata": {},
   "outputs": [
    {
     "data": {
      "text/plain": [
       "{'id': '9949209',\n",
       " 'text': 'Genetic mapping of the copper toxicosis locus in Bedlington terriers to dog chromosome 10, in a region syntenic to human chromosome region 2p13-p16. Abnormal hepatic copper accumulation is recognized as an inherited disorder in man, mouse, rat and dog. The major cause of hepatic copper accumulation in man is a dysfunctional ATP7B gene, causing Wilson disease (WD). Mutations in the ATP7B genes have also been demonstrated in mouse and rat. The ATP7B gene has been excluded in the much rarer human copper overload disease non-Indian childhood cirrhosis, indicating genetic heterogeneity. By investigating the common autosomal recessive copper toxicosis (CT) in Bedlington terriers, we have identified a new locus involved in progressive liver disease. We examined whether the WD gene ATP7B was also causative for CT by investigating the chromosomal co-localization of ATP7B and C04107, using fluorescence in situ hybridization (FISH). C04107 is an anonymous microsatellite marker closely linked to CT. However, BAC clones containing ATP7B and C04107 mapped to the canine chromosome regions CFA22q11 and CFA10q26, respectively, demonstrating that WD cannot be homologous to CT. The copper transport genes CTR1 and CTR2 were also excluded as candidate genes for CT since they both mapped to canine chromosome region CFA11q22. 2-22. 5. A transcribed sequence identified from the C04107-containing BAC was found to be homologous to a gene expressed from human chromosome 2p13-p16, a region devoid of any positional candidate genes. '}"
      ]
     },
     "execution_count": 10,
     "metadata": {},
     "output_type": "execute_result"
    }
   ],
   "source": [
    "data[0]"
   ]
  },
  {
   "cell_type": "code",
   "execution_count": 16,
   "id": "contemporary-apollo",
   "metadata": {},
   "outputs": [
    {
     "name": "stderr",
     "output_type": "stream",
     "text": [
      "100%|██████████| 100/100 [03:37<00:00,  2.18s/it]\n"
     ]
    },
    {
     "data": {
      "text/plain": [
       "100"
      ]
     },
     "execution_count": 16,
     "metadata": {},
     "output_type": "execute_result"
    }
   ],
   "source": [
    "mm_results=[]\n",
    "for item in tqdm(data):\n",
    "    text=item['text']\n",
    "    mmout=metamaplite(text)\n",
    "    mm_results.append({\n",
    "        \"id\":item['id'],\n",
    "        \"text\":text,\n",
    "        \"mm\":mmout\n",
    "    })\n",
    "\n",
    "len(mm_results)"
   ]
  },
  {
   "cell_type": "code",
   "execution_count": 17,
   "id": "actual-crest",
   "metadata": {},
   "outputs": [
    {
     "data": {
      "text/plain": [
       "{'id': '9949209',\n",
       " 'text': 'Genetic mapping of the copper toxicosis locus in Bedlington terriers to dog chromosome 10, in a region syntenic to human chromosome region 2p13-p16. Abnormal hepatic copper accumulation is recognized as an inherited disorder in man, mouse, rat and dog. The major cause of hepatic copper accumulation in man is a dysfunctional ATP7B gene, causing Wilson disease (WD). Mutations in the ATP7B genes have also been demonstrated in mouse and rat. The ATP7B gene has been excluded in the much rarer human copper overload disease non-Indian childhood cirrhosis, indicating genetic heterogeneity. By investigating the common autosomal recessive copper toxicosis (CT) in Bedlington terriers, we have identified a new locus involved in progressive liver disease. We examined whether the WD gene ATP7B was also causative for CT by investigating the chromosomal co-localization of ATP7B and C04107, using fluorescence in situ hybridization (FISH). C04107 is an anonymous microsatellite marker closely linked to CT. However, BAC clones containing ATP7B and C04107 mapped to the canine chromosome regions CFA22q11 and CFA10q26, respectively, demonstrating that WD cannot be homologous to CT. The copper transport genes CTR1 and CTR2 were also excluded as candidate genes for CT since they both mapped to canine chromosome region CFA11q22. 2-22. 5. A transcribed sequence identified from the C04107-containing BAC was found to be homologous to a gene expressed from human chromosome 2p13-p16, a region devoid of any positional candidate genes. ',\n",
       " 'mm': [{'cui': 'C0019202',\n",
       "   'name': 'Hepatolenticular Degeneration',\n",
       "   'score': '93.93',\n",
       "   'pos_info': '346/14;346/14;346/14;346/14',\n",
       "   'semtypes': ['dsyn'],\n",
       "   'trigger': '\"Wilson Disease\"-text-19-\"Wilson disease\"-NNP-0,\"Wilson Disease\"-text-1-\"Wilson disease\"-NNP-0,\"Wilson Disease\"-text-1-\"Wilson disease\"-NNP-0,\"Wilson Disease\"-text-1-\"Wilson disease\"-NNP-0'},\n",
       "  {'cui': 'C0009968',\n",
       "   'name': 'copper',\n",
       "   'score': '66.30',\n",
       "   'pos_info': '23/6;166/6;280/6;499/6;637/6;1182/6',\n",
       "   'semtypes': ['bacs', ' elii', ' phsu'],\n",
       "   'trigger': '\"copper\"-text-0-\"copper\"-NN-0,\"copper\"-text-0-\"copper\"-NN-0,\"copper\"-text-0-\"copper\"-NN-0,\"copper\"-text-8-\"copper\"-NN-0,\"copper\"-text-0-\"copper\"-NN-0,\"copper\"-text-0-\"copper\"-NN-0'},\n",
       "  {'cui': 'C0525037',\n",
       "   'name': 'CDKN2A gene',\n",
       "   'score': '14.73',\n",
       "   'pos_info': '144/3;1473/3',\n",
       "   'semtypes': ['gngm'],\n",
       "   'trigger': '\"p16\"-text-33-\"p16\"-NNS-0,\"p16\"-text-30-\"p16\"-NNS-0'},\n",
       "  {'cui': 'C1514562',\n",
       "   'name': 'Protein Domain',\n",
       "   'score': '12.89',\n",
       "   'pos_info': '96/6;1480/6',\n",
       "   'semtypes': ['amas'],\n",
       "   'trigger': '\"Region\"-text-19-\"region\"-NN-0,\"Region\"-text-35-\"region\"-NN-0'},\n",
       "  {'cui': 'C0017337',\n",
       "   'name': 'Genes',\n",
       "   'score': '9.21',\n",
       "   'pos_info': '390/5;780/4;1199/5;1431/4',\n",
       "   'semtypes': ['gngm'],\n",
       "   'trigger': '\"Genes\"-text-0-\"genes\"-NNS-0,\"Gene\"-text-0-\"gene\"-NN-0,\"Genes\"-text-0-\"genes\"-NNS-0,\"Gene\"-text-18-\"gene\"-NN-0'},\n",
       "  {'cui': 'C0004793',\n",
       "   'name': 'Base Sequence',\n",
       "   'score': '5.53',\n",
       "   'pos_info': '1348/8',\n",
       "   'semtypes': ['nusq'],\n",
       "   'trigger': '\"Sequence\"-text-0-\"sequence\"-NN-0'},\n",
       "  {'cui': 'C1412689',\n",
       "   'name': 'ATP7B gene',\n",
       "   'score': '4.60',\n",
       "   'pos_info': '326/10;346/14;346/14;384/5;446/10;346/14;785/5;869/5;1034/5;346/14',\n",
       "   'semtypes': ['gngm'],\n",
       "   'trigger': '\"ATP7B gene\"-text-12-\"ATP7B gene\"-NNP-0,\"Wilson disease\"-text-19-\"Wilson disease\"-NNP-0,\"Wilson disease\"-text-1-\"Wilson disease\"-NNP-0,\"ATP7B\"-text-0-\"ATP7B\"-NNP-0,\"ATP7B gene\"-text-0-\"ATP7B gene\"-NNP-0,\"Wilson disease\"-text-1-\"Wilson disease\"-NNP-0,\"ATP7B\"-text-0-\"ATP7B\"-NN-0,\"ATP7B\"-text-24-\"ATP7B\"-NNP-0,\"ATP7B\"-text-0-\"ATP7B\"-NNP-0,\"Wilson disease\"-text-1-\"Wilson disease\"-NNP-0'},\n",
       "  {'cui': 'C0012634',\n",
       "   'name': 'Disease',\n",
       "   'score': '2.76',\n",
       "   'pos_info': '216/8;515/7',\n",
       "   'semtypes': ['dsyn'],\n",
       "   'trigger': '\"Disorder\"-text-4-\"disorder\"-NN-0,\"Disease\"-text-12-\"disease\"-NN-0'},\n",
       "  {'cui': 'C0162326',\n",
       "   'name': 'DNA Sequence',\n",
       "   'score': '1.84',\n",
       "   'pos_info': '1348/8',\n",
       "   'semtypes': ['nusq'],\n",
       "   'trigger': '\"Sequence\"-text-0-\"sequence\"-NN-0'},\n",
       "  {'cui': 'C0268074',\n",
       "   'name': 'Indian childhood cirrhosis',\n",
       "   'score': '1.84',\n",
       "   'pos_info': '527/26',\n",
       "   'semtypes': ['dsyn'],\n",
       "   'trigger': '\"Indian childhood cirrhosis\"-text-20-\"Indian childhood cirrhosis\"-JJ-0'},\n",
       "  {'cui': 'C0162327',\n",
       "   'name': 'RNA Sequence',\n",
       "   'score': '1.84',\n",
       "   'pos_info': '1348/8',\n",
       "   'semtypes': ['nusq'],\n",
       "   'trigger': '\"Sequence\"-text-0-\"sequence\"-NN-0'},\n",
       "  {'cui': 'C0007120',\n",
       "   'name': 'Bronchioloalveolar Adenocarcinoma',\n",
       "   'score': '0.92',\n",
       "   'pos_info': '1012/3;1395/3',\n",
       "   'semtypes': ['neop'],\n",
       "   'trigger': '\"BAC\"-text-0-\"BAC\"-NNP-0,\"BAC\"-text-2-\"BAC\"-NNP-0'},\n",
       "  {'cui': 'C1705280',\n",
       "   'name': 'CDKN2A wt Allele',\n",
       "   'score': '0.92',\n",
       "   'pos_info': '144/3;1473/3',\n",
       "   'semtypes': ['gngm'],\n",
       "   'trigger': '\"P16\"-text-33-\"p16\"-NNS-0,\"P16\"-text-30-\"p16\"-NNS-0'},\n",
       "  {'cui': 'C1332838',\n",
       "   'name': 'Candidate Disease Gene',\n",
       "   'score': '0.92',\n",
       "   'pos_info': '1241/15;1512/15',\n",
       "   'semtypes': ['gngm'],\n",
       "   'trigger': '\"Candidate Genes\"-text-10-\"candidate genes\"-NN-0,\"Candidate Genes\"-text-47-\"candidate genes\"-NN-0'},\n",
       "  {'cui': 'C1334043',\n",
       "   'name': 'Homologous Gene',\n",
       "   'score': '0.92',\n",
       "   'pos_info': '1160/10;1415/10',\n",
       "   'semtypes': ['gngm'],\n",
       "   'trigger': '\"Homologous\"-text-33-\"homologous\"-JJ-0,\"Homologous\"-text-12-\"homologous\"-JJ-0'},\n",
       "  {'cui': 'C0302332',\n",
       "   'name': 'Poisoning syndrome',\n",
       "   'score': '0.92',\n",
       "   'pos_info': '30/9;644/9',\n",
       "   'semtypes': ['dsyn'],\n",
       "   'trigger': '\"toxicosis\"-text-0-\"toxicosis\"-NN-0,\"toxicosis\"-text-0-\"toxicosis\"-NN-0'},\n",
       "  {'cui': 'C1421525',\n",
       "   'name': 'WWOX gene',\n",
       "   'score': '0.92',\n",
       "   'pos_info': '810/3;1257/3',\n",
       "   'semtypes': ['gngm'],\n",
       "   'trigger': '\"FOR\"-text-6-\"for\"-IN-0,\"FOR\"-text-12-\"for\"-IN-0'},\n",
       "  {'cui': 'C4321252',\n",
       "   'name': 'WWOX wt Allele',\n",
       "   'score': '0.92',\n",
       "   'pos_info': '810/3;1257/3',\n",
       "   'semtypes': ['gngm'],\n",
       "   'trigger': '\"FOR\"-text-6-\"for\"-IN-0,\"FOR\"-text-12-\"for\"-IN-0'},\n",
       "  {'cui': 'C3257082',\n",
       "   'name': 'Fish extract',\n",
       "   'score': '0.46',\n",
       "   'pos_info': '929/4',\n",
       "   'semtypes': ['orch'],\n",
       "   'trigger': '\"Fish\"-text-42-\"FISH\"-NNP-0'},\n",
       "  {'cui': 'C1519628',\n",
       "   'name': 'Molecular Transport',\n",
       "   'score': '0.46',\n",
       "   'pos_info': '1189/9',\n",
       "   'semtypes': ['moft'],\n",
       "   'trigger': '\"Transport\"-text-0-\"transport\"-NN-0'},\n",
       "  {'cui': 'C4522281',\n",
       "   'name': 'Reproductive Human Cells, Tissues, and Cellular and Tissue-Based Products from Anonymous Donor',\n",
       "   'score': '0.46',\n",
       "   'pos_info': '949/9',\n",
       "   'semtypes': ['phsu'],\n",
       "   'trigger': '\"Anonymous\"-text-0-\"anonymous\"-JJ-0'},\n",
       "  {'cui': 'C1822711',\n",
       "   'name': 'SH3PXD2A gene',\n",
       "   'score': '0.46',\n",
       "   'pos_info': '929/4',\n",
       "   'semtypes': ['gngm'],\n",
       "   'trigger': '\"FISH\"-text-42-\"FISH\"-NNP-0'},\n",
       "  {'cui': 'C3274826',\n",
       "   'name': 'SH3PXD2A wt Allele',\n",
       "   'score': '0.46',\n",
       "   'pos_info': '929/4',\n",
       "   'semtypes': ['gngm'],\n",
       "   'trigger': '\"FISH\"-text-42-\"FISH\"-NNP-0'}]}"
      ]
     },
     "execution_count": 17,
     "metadata": {},
     "output_type": "execute_result"
    }
   ],
   "source": [
    "mm_results[0]"
   ]
  },
  {
   "cell_type": "code",
   "execution_count": 18,
   "id": "northern-allocation",
   "metadata": {},
   "outputs": [
    {
     "name": "stderr",
     "output_type": "stream",
     "text": [
      "100%|██████████| 100/100 [00:00<00:00, 12614.07it/s]\n"
     ]
    }
   ],
   "source": [
    "with open(output_file, mode='w') as f:\n",
    "    for item in tqdm(mm_results):\n",
    "        f.write(json.dumps(item) + '\\n')"
   ]
  },
  {
   "cell_type": "code",
   "execution_count": null,
   "id": "through-archive",
   "metadata": {},
   "outputs": [],
   "source": []
  }
 ],
 "metadata": {
  "celltoolbar": "Tags",
  "kernelspec": {
   "display_name": "Python 3",
   "language": "python",
   "name": "python3"
  },
  "language_info": {
   "codemirror_mode": {
    "name": "ipython",
    "version": 3
   },
   "file_extension": ".py",
   "mimetype": "text/x-python",
   "name": "python",
   "nbconvert_exporter": "python",
   "pygments_lexer": "ipython3",
   "version": "3.6.9"
  }
 },
 "nbformat": 4,
 "nbformat_minor": 5
}
