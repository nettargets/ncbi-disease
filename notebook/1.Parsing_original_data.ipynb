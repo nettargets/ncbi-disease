{
 "cells": [
  {
   "cell_type": "code",
   "execution_count": 1,
   "id": "annual-astronomy",
   "metadata": {},
   "outputs": [],
   "source": [
    "# Parse NCBI Disease corpus for the task"
   ]
  },
  {
   "cell_type": "code",
   "execution_count": 5,
   "id": "color-departure",
   "metadata": {},
   "outputs": [],
   "source": [
    "import os,sys,json,re\n",
    "from tqdm import tqdm"
   ]
  },
  {
   "cell_type": "code",
   "execution_count": 6,
   "id": "british-clothing",
   "metadata": {
    "tags": [
     "parameters"
    ]
   },
   "outputs": [],
   "source": [
    "input_file='../original-data/test/NCBItestset_corpus.txt'\n",
    "output_file='../data/NCBItestset_corpus.nd.json'"
   ]
  },
  {
   "cell_type": "code",
   "execution_count": 7,
   "id": "ranking-disease",
   "metadata": {},
   "outputs": [],
   "source": [
    "def extract_id_and_text_from_pubtator_text(input_text):\n",
    "    \n",
    "    text=None\n",
    "    kind=None\n",
    "    \n",
    "    regex=r'^([0-9]*)\\|t\\|(.*)'\n",
    "    match=re.match(regex, input_text)\n",
    "    if match:\n",
    "        uid=match.group(1)\n",
    "        text=match.group(2)\n",
    "        kind='title'\n",
    "                         \n",
    "    regex=r'^([0-9]*)\\|a\\|(.*)'\n",
    "    match=re.match(regex, input_text)\n",
    "    if match:\n",
    "        uid=match.group(1)\n",
    "        text=match.group(2)\n",
    "        kind='abstract'\n",
    "    \n",
    "    if kind in ['title','abstract']:\n",
    "        return {\n",
    "            'id': uid, \n",
    "            'kind': kind,\n",
    "            'text': text\n",
    "        }"
   ]
  },
  {
   "cell_type": "code",
   "execution_count": 8,
   "id": "least-public",
   "metadata": {},
   "outputs": [
    {
     "data": {
      "text/plain": [
       "100"
      ]
     },
     "execution_count": 8,
     "metadata": {},
     "output_type": "execute_result"
    }
   ],
   "source": [
    "text_dict={}\n",
    "for line in open(input_file):\n",
    "    obj=extract_id_and_text_from_pubtator_text(line)\n",
    "    if obj:\n",
    "        pmid=obj['id']\n",
    "        \n",
    "        if pmid not in text_dict:\n",
    "            text_dict[pmid] = {}\n",
    "        \n",
    "        kind=obj['kind']\n",
    "        text_dict[pmid][kind] = obj['text']\n",
    "len(text_dict)"
   ]
  },
  {
   "cell_type": "code",
   "execution_count": 9,
   "id": "roman-local",
   "metadata": {},
   "outputs": [],
   "source": [
    "output_list=[]\n",
    "for pmid in text_dict:\n",
    "    title=text_dict[pmid]['title']\n",
    "    abstract=text_dict[pmid]['abstract']\n",
    "    text = title + ' ' + abstract\n",
    "    output_list.append({\n",
    "        'id':pmid,\n",
    "        'text':text\n",
    "    })"
   ]
  },
  {
   "cell_type": "code",
   "execution_count": 10,
   "id": "lucky-invasion",
   "metadata": {},
   "outputs": [
    {
     "name": "stderr",
     "output_type": "stream",
     "text": [
      "100%|██████████| 100/100 [00:00<00:00, 59224.85it/s]\n"
     ]
    }
   ],
   "source": [
    "with open(output_file, mode='w') as f:\n",
    "    for item in tqdm(output_list):\n",
    "        f.write(json.dumps(item) + '\\n')"
   ]
  },
  {
   "cell_type": "code",
   "execution_count": null,
   "id": "numerous-vegetarian",
   "metadata": {},
   "outputs": [],
   "source": []
  }
 ],
 "metadata": {
  "celltoolbar": "Tags",
  "kernelspec": {
   "display_name": "Python 3",
   "language": "python",
   "name": "python3"
  },
  "language_info": {
   "codemirror_mode": {
    "name": "ipython",
    "version": 3
   },
   "file_extension": ".py",
   "mimetype": "text/x-python",
   "name": "python",
   "nbconvert_exporter": "python",
   "pygments_lexer": "ipython3",
   "version": "3.6.9"
  }
 },
 "nbformat": 4,
 "nbformat_minor": 5
}
