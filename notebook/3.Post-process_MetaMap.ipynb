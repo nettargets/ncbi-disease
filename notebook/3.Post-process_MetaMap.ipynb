{
 "cells": [
  {
   "cell_type": "code",
   "execution_count": 1,
   "id": "flush-spyware",
   "metadata": {},
   "outputs": [],
   "source": [
    "# Evaluate MetaMap"
   ]
  },
  {
   "cell_type": "code",
   "execution_count": 2,
   "id": "separate-bangladesh",
   "metadata": {},
   "outputs": [],
   "source": [
    "import os,sys,json,re\n",
    "from tqdm import tqdm"
   ]
  },
  {
   "cell_type": "code",
   "execution_count": 3,
   "id": "innovative-updating",
   "metadata": {},
   "outputs": [],
   "source": [
    "input_file='../data/MetaMap_output.nd.json'\n",
    "answer_file='../original-data/test/NCBItestset_corpus.txt'\n",
    "output_file='../data/ncbi_disease_metamap.conll'"
   ]
  },
  {
   "cell_type": "markdown",
   "id": "foster-monte",
   "metadata": {},
   "source": [
    "# output_file format\n",
    "from https://www.clips.uantwerpen.be/conll2000/chunking/output.txt.gz\n",
    "\n",
    "```\n",
    "   Boeing NNP B-NP B-NP\n",
    "   's POS B-NP B-NP\n",
    "   747 CD I-NP I-NP\n",
    "   jetliners NNS I-NP I-NP\n",
    "   . . O O\n",
    "\n",
    "   Rockwell NNP B-NP B-NP\n",
    "   said VBD B-VP B-VP\n",
    "   the DT B-NP B-NP\n",
    "   agreement NN I-NP I-NP\n",
    "```"
   ]
  },
  {
   "cell_type": "code",
   "execution_count": 4,
   "id": "synthetic-hopkins",
   "metadata": {},
   "outputs": [
    {
     "data": {
      "text/plain": [
       "100"
      ]
     },
     "execution_count": 4,
     "metadata": {},
     "output_type": "execute_result"
    }
   ],
   "source": [
    "data=[json.loads(line) for line in open(input_file)]\n",
    "len(data)"
   ]
  },
  {
   "cell_type": "code",
   "execution_count": 5,
   "id": "mounted-expansion",
   "metadata": {},
   "outputs": [
    {
     "data": {
      "text/plain": [
       "{'id': '9949209',\n",
       " 'text': 'Genetic mapping of the copper toxicosis locus in Bedlington terriers to dog chromosome 10, in a region syntenic to human chromosome region 2p13-p16. Abnormal hepatic copper accumulation is recognized as an inherited disorder in man, mouse, rat and dog. The major cause of hepatic copper accumulation in man is a dysfunctional ATP7B gene, causing Wilson disease (WD). Mutations in the ATP7B genes have also been demonstrated in mouse and rat. The ATP7B gene has been excluded in the much rarer human copper overload disease non-Indian childhood cirrhosis, indicating genetic heterogeneity. By investigating the common autosomal recessive copper toxicosis (CT) in Bedlington terriers, we have identified a new locus involved in progressive liver disease. We examined whether the WD gene ATP7B was also causative for CT by investigating the chromosomal co-localization of ATP7B and C04107, using fluorescence in situ hybridization (FISH). C04107 is an anonymous microsatellite marker closely linked to CT. However, BAC clones containing ATP7B and C04107 mapped to the canine chromosome regions CFA22q11 and CFA10q26, respectively, demonstrating that WD cannot be homologous to CT. The copper transport genes CTR1 and CTR2 were also excluded as candidate genes for CT since they both mapped to canine chromosome region CFA11q22. 2-22. 5. A transcribed sequence identified from the C04107-containing BAC was found to be homologous to a gene expressed from human chromosome 2p13-p16, a region devoid of any positional candidate genes. ',\n",
       " 'mm': [{'cui': 'C0019202',\n",
       "   'name': 'Hepatolenticular Degeneration',\n",
       "   'score': '93.93',\n",
       "   'pos_info': '346/14;346/14;346/14;346/14',\n",
       "   'semtypes': ['dsyn'],\n",
       "   'trigger': '\"Wilson Disease\"-text-19-\"Wilson disease\"-NNP-0,\"Wilson Disease\"-text-1-\"Wilson disease\"-NNP-0,\"Wilson Disease\"-text-1-\"Wilson disease\"-NNP-0,\"Wilson Disease\"-text-1-\"Wilson disease\"-NNP-0'},\n",
       "  {'cui': 'C0009968',\n",
       "   'name': 'copper',\n",
       "   'score': '66.30',\n",
       "   'pos_info': '23/6;166/6;280/6;499/6;637/6;1182/6',\n",
       "   'semtypes': ['bacs', ' elii', ' phsu'],\n",
       "   'trigger': '\"copper\"-text-0-\"copper\"-NN-0,\"copper\"-text-0-\"copper\"-NN-0,\"copper\"-text-0-\"copper\"-NN-0,\"copper\"-text-8-\"copper\"-NN-0,\"copper\"-text-0-\"copper\"-NN-0,\"copper\"-text-0-\"copper\"-NN-0'},\n",
       "  {'cui': 'C0525037',\n",
       "   'name': 'CDKN2A gene',\n",
       "   'score': '14.73',\n",
       "   'pos_info': '144/3;1473/3',\n",
       "   'semtypes': ['gngm'],\n",
       "   'trigger': '\"p16\"-text-33-\"p16\"-NNS-0,\"p16\"-text-30-\"p16\"-NNS-0'},\n",
       "  {'cui': 'C1514562',\n",
       "   'name': 'Protein Domain',\n",
       "   'score': '12.89',\n",
       "   'pos_info': '96/6;1480/6',\n",
       "   'semtypes': ['amas'],\n",
       "   'trigger': '\"Region\"-text-19-\"region\"-NN-0,\"Region\"-text-35-\"region\"-NN-0'},\n",
       "  {'cui': 'C0017337',\n",
       "   'name': 'Genes',\n",
       "   'score': '9.21',\n",
       "   'pos_info': '390/5;780/4;1199/5;1431/4',\n",
       "   'semtypes': ['gngm'],\n",
       "   'trigger': '\"Genes\"-text-0-\"genes\"-NNS-0,\"Gene\"-text-0-\"gene\"-NN-0,\"Genes\"-text-0-\"genes\"-NNS-0,\"Gene\"-text-18-\"gene\"-NN-0'},\n",
       "  {'cui': 'C0004793',\n",
       "   'name': 'Base Sequence',\n",
       "   'score': '5.53',\n",
       "   'pos_info': '1348/8',\n",
       "   'semtypes': ['nusq'],\n",
       "   'trigger': '\"Sequence\"-text-0-\"sequence\"-NN-0'},\n",
       "  {'cui': 'C1412689',\n",
       "   'name': 'ATP7B gene',\n",
       "   'score': '4.60',\n",
       "   'pos_info': '326/10;346/14;346/14;384/5;446/10;346/14;785/5;869/5;1034/5;346/14',\n",
       "   'semtypes': ['gngm'],\n",
       "   'trigger': '\"ATP7B gene\"-text-12-\"ATP7B gene\"-NNP-0,\"Wilson disease\"-text-19-\"Wilson disease\"-NNP-0,\"Wilson disease\"-text-1-\"Wilson disease\"-NNP-0,\"ATP7B\"-text-0-\"ATP7B\"-NNP-0,\"ATP7B gene\"-text-0-\"ATP7B gene\"-NNP-0,\"Wilson disease\"-text-1-\"Wilson disease\"-NNP-0,\"ATP7B\"-text-0-\"ATP7B\"-NN-0,\"ATP7B\"-text-24-\"ATP7B\"-NNP-0,\"ATP7B\"-text-0-\"ATP7B\"-NNP-0,\"Wilson disease\"-text-1-\"Wilson disease\"-NNP-0'},\n",
       "  {'cui': 'C0012634',\n",
       "   'name': 'Disease',\n",
       "   'score': '2.76',\n",
       "   'pos_info': '216/8;515/7',\n",
       "   'semtypes': ['dsyn'],\n",
       "   'trigger': '\"Disorder\"-text-4-\"disorder\"-NN-0,\"Disease\"-text-12-\"disease\"-NN-0'},\n",
       "  {'cui': 'C0162326',\n",
       "   'name': 'DNA Sequence',\n",
       "   'score': '1.84',\n",
       "   'pos_info': '1348/8',\n",
       "   'semtypes': ['nusq'],\n",
       "   'trigger': '\"Sequence\"-text-0-\"sequence\"-NN-0'},\n",
       "  {'cui': 'C0268074',\n",
       "   'name': 'Indian childhood cirrhosis',\n",
       "   'score': '1.84',\n",
       "   'pos_info': '527/26',\n",
       "   'semtypes': ['dsyn'],\n",
       "   'trigger': '\"Indian childhood cirrhosis\"-text-20-\"Indian childhood cirrhosis\"-JJ-0'},\n",
       "  {'cui': 'C0162327',\n",
       "   'name': 'RNA Sequence',\n",
       "   'score': '1.84',\n",
       "   'pos_info': '1348/8',\n",
       "   'semtypes': ['nusq'],\n",
       "   'trigger': '\"Sequence\"-text-0-\"sequence\"-NN-0'},\n",
       "  {'cui': 'C0007120',\n",
       "   'name': 'Bronchioloalveolar Adenocarcinoma',\n",
       "   'score': '0.92',\n",
       "   'pos_info': '1012/3;1395/3',\n",
       "   'semtypes': ['neop'],\n",
       "   'trigger': '\"BAC\"-text-0-\"BAC\"-NNP-0,\"BAC\"-text-2-\"BAC\"-NNP-0'},\n",
       "  {'cui': 'C1705280',\n",
       "   'name': 'CDKN2A wt Allele',\n",
       "   'score': '0.92',\n",
       "   'pos_info': '144/3;1473/3',\n",
       "   'semtypes': ['gngm'],\n",
       "   'trigger': '\"P16\"-text-33-\"p16\"-NNS-0,\"P16\"-text-30-\"p16\"-NNS-0'},\n",
       "  {'cui': 'C1332838',\n",
       "   'name': 'Candidate Disease Gene',\n",
       "   'score': '0.92',\n",
       "   'pos_info': '1241/15;1512/15',\n",
       "   'semtypes': ['gngm'],\n",
       "   'trigger': '\"Candidate Genes\"-text-10-\"candidate genes\"-NN-0,\"Candidate Genes\"-text-47-\"candidate genes\"-NN-0'},\n",
       "  {'cui': 'C1334043',\n",
       "   'name': 'Homologous Gene',\n",
       "   'score': '0.92',\n",
       "   'pos_info': '1160/10;1415/10',\n",
       "   'semtypes': ['gngm'],\n",
       "   'trigger': '\"Homologous\"-text-33-\"homologous\"-JJ-0,\"Homologous\"-text-12-\"homologous\"-JJ-0'},\n",
       "  {'cui': 'C0302332',\n",
       "   'name': 'Poisoning syndrome',\n",
       "   'score': '0.92',\n",
       "   'pos_info': '30/9;644/9',\n",
       "   'semtypes': ['dsyn'],\n",
       "   'trigger': '\"toxicosis\"-text-0-\"toxicosis\"-NN-0,\"toxicosis\"-text-0-\"toxicosis\"-NN-0'},\n",
       "  {'cui': 'C1421525',\n",
       "   'name': 'WWOX gene',\n",
       "   'score': '0.92',\n",
       "   'pos_info': '810/3;1257/3',\n",
       "   'semtypes': ['gngm'],\n",
       "   'trigger': '\"FOR\"-text-6-\"for\"-IN-0,\"FOR\"-text-12-\"for\"-IN-0'},\n",
       "  {'cui': 'C4321252',\n",
       "   'name': 'WWOX wt Allele',\n",
       "   'score': '0.92',\n",
       "   'pos_info': '810/3;1257/3',\n",
       "   'semtypes': ['gngm'],\n",
       "   'trigger': '\"FOR\"-text-6-\"for\"-IN-0,\"FOR\"-text-12-\"for\"-IN-0'},\n",
       "  {'cui': 'C3257082',\n",
       "   'name': 'Fish extract',\n",
       "   'score': '0.46',\n",
       "   'pos_info': '929/4',\n",
       "   'semtypes': ['orch'],\n",
       "   'trigger': '\"Fish\"-text-42-\"FISH\"-NNP-0'},\n",
       "  {'cui': 'C1519628',\n",
       "   'name': 'Molecular Transport',\n",
       "   'score': '0.46',\n",
       "   'pos_info': '1189/9',\n",
       "   'semtypes': ['moft'],\n",
       "   'trigger': '\"Transport\"-text-0-\"transport\"-NN-0'},\n",
       "  {'cui': 'C4522281',\n",
       "   'name': 'Reproductive Human Cells, Tissues, and Cellular and Tissue-Based Products from Anonymous Donor',\n",
       "   'score': '0.46',\n",
       "   'pos_info': '949/9',\n",
       "   'semtypes': ['phsu'],\n",
       "   'trigger': '\"Anonymous\"-text-0-\"anonymous\"-JJ-0'},\n",
       "  {'cui': 'C1822711',\n",
       "   'name': 'SH3PXD2A gene',\n",
       "   'score': '0.46',\n",
       "   'pos_info': '929/4',\n",
       "   'semtypes': ['gngm'],\n",
       "   'trigger': '\"FISH\"-text-42-\"FISH\"-NNP-0'},\n",
       "  {'cui': 'C3274826',\n",
       "   'name': 'SH3PXD2A wt Allele',\n",
       "   'score': '0.46',\n",
       "   'pos_info': '929/4',\n",
       "   'semtypes': ['gngm'],\n",
       "   'trigger': '\"FISH\"-text-42-\"FISH\"-NNP-0'}]}"
      ]
     },
     "execution_count": 5,
     "metadata": {},
     "output_type": "execute_result"
    }
   ],
   "source": [
    "item=data[0]\n",
    "item"
   ]
  },
  {
   "cell_type": "code",
   "execution_count": 6,
   "id": "surgical-carolina",
   "metadata": {},
   "outputs": [],
   "source": [
    "def parse_pos_info(pos_info):\n",
    "    regex=r';?([0-9]*)\\/([0-9]*)'\n",
    "    groups=re.findall(regex, pos_info)\n",
    "    \n",
    "    positions=[]\n",
    "    for pos, length in groups:\n",
    "        start_offset=int(pos)\n",
    "        end_offset=start_offset+int(length)\n",
    "        positions.append((start_offset, end_offset))\n",
    "        \n",
    "    return positions"
   ]
  },
  {
   "cell_type": "code",
   "execution_count": 7,
   "id": "certain-persian",
   "metadata": {},
   "outputs": [],
   "source": [
    "assert parse_pos_info(\"0/3\") == [(0,3)]\n",
    "assert parse_pos_info(\"55/23;83/4\") == [(55,78), (83,87)]"
   ]
  },
  {
   "cell_type": "code",
   "execution_count": 8,
   "id": "determined-float",
   "metadata": {},
   "outputs": [
    {
     "data": {
      "text/plain": [
       "100"
      ]
     },
     "execution_count": 8,
     "metadata": {},
     "output_type": "execute_result"
    }
   ],
   "source": [
    "# with open(output_file, mode='w') as f:\n",
    "mm_dict={}\n",
    "for item in data:\n",
    "    pmid=item['id']\n",
    "    if pmid not in mm_dict:\n",
    "        mm_dict[pmid] = {}\n",
    "    mm_dict[pmid]['text'] = item['text']\n",
    "    \n",
    "    mm_dict[pmid]['entities'] = []\n",
    "    outset=set()\n",
    "    for entity in item['mm']:\n",
    "        if 'dsyn' in entity['semtypes']:\n",
    "            pos_info=entity['pos_info']\n",
    "            name=entity['name']\n",
    "            cui=entity['cui']\n",
    "            for start_offset, end_offset in parse_pos_info(pos_info):\n",
    "                outset.add((start_offset, end_offset))\n",
    "    mm_dict[pmid]['entities'] += (list(outset))\n",
    "   \n",
    "len(mm_dict)"
   ]
  },
  {
   "cell_type": "markdown",
   "id": "breeding-sodium",
   "metadata": {},
   "source": [
    "# Parse answer file"
   ]
  },
  {
   "cell_type": "code",
   "execution_count": 9,
   "id": "unable-labor",
   "metadata": {},
   "outputs": [],
   "source": [
    "line_title='9949209|t|Genetic mapping of the copper toxicosis locus in Bedlington terriers to dog chromosome 10, in a region syntenic to human chromosome region 2p13-p16.'\n",
    "line_abstract='9949209|a|Abnormal hepatic copper accumulation is recognized as an inherited disorder in man, mouse, rat and dog. The major cause of hepatic copper accumulation in man is a dysfunctional ATP7B gene, causing Wilson disease (WD). Mutations in the ATP7B genes have also been demonstrated in mouse and rat. The ATP7B gene has been excluded in the much rarer human copper overload disease non-Indian childhood cirrhosis, indicating genetic heterogeneity. By investigating the common autosomal recessive copper toxicosis (CT) in Bedlington terriers, we have identified a new locus involved in progressive liver disease. We examined whether the WD gene ATP7B was also causative for CT by investigating the chromosomal co-localization of ATP7B and C04107, using fluorescence in situ hybridization (FISH). C04107 is an anonymous microsatellite marker closely linked to CT. However, BAC clones containing ATP7B and C04107 mapped to the canine chromosome regions CFA22q11 and CFA10q26, respectively, demonstrating that WD cannot be homologous to CT. The copper transport genes CTR1 and CTR2 were also excluded as candidate genes for CT since they both mapped to canine chromosome region CFA11q22. 2-22. 5. A transcribed sequence identified from the C04107-containing BAC was found to be homologous to a gene expressed from human chromosome 2p13-p16, a region devoid of any positional candidate genes.'\n",
    "line_entity=\"9949209\\t23\\t39\\tcopper toxicosis\\tModifier\\tOMIM:215600\""
   ]
  },
  {
   "cell_type": "code",
   "execution_count": 10,
   "id": "neutral-westminster",
   "metadata": {},
   "outputs": [
    {
     "data": {
      "text/plain": [
       "'9949209\\t23\\t39\\tcopper toxicosis\\tModifier\\tOMIM:215600'"
      ]
     },
     "execution_count": 10,
     "metadata": {},
     "output_type": "execute_result"
    }
   ],
   "source": [
    "line_entity"
   ]
  },
  {
   "cell_type": "code",
   "execution_count": 11,
   "id": "digital-sculpture",
   "metadata": {},
   "outputs": [],
   "source": [
    "regex_title=r'^([0-9]*)\\|t\\|(.*)$'\n",
    "regex_abstract=r'^([0-9]*)\\|a\\|(.*)$'\n",
    "regex_entity=r'^([0-9]*)\\t([0-9]*)\\t([0-9]*)\\t(.*)\\t(.*)\\t(.*)'"
   ]
  },
  {
   "cell_type": "code",
   "execution_count": 12,
   "id": "tender-broad",
   "metadata": {},
   "outputs": [
    {
     "data": {
      "text/plain": [
       "('9949209',\n",
       " 'Genetic mapping of the copper toxicosis locus in Bedlington terriers to dog chromosome 10, in a region syntenic to human chromosome region 2p13-p16.')"
      ]
     },
     "execution_count": 12,
     "metadata": {},
     "output_type": "execute_result"
    }
   ],
   "source": [
    "# Extract Title\n",
    "match=re.match(regex_abstract, line_title)\n",
    "assert match is None\n",
    "match=re.match(regex_entity, line_title)\n",
    "assert match is None\n",
    "match=re.match(regex_title, line_title)\n",
    "assert match\n",
    "match.groups()"
   ]
  },
  {
   "cell_type": "code",
   "execution_count": 13,
   "id": "accomplished-glass",
   "metadata": {},
   "outputs": [
    {
     "data": {
      "text/plain": [
       "('9949209',\n",
       " 'Abnormal hepatic copper accumulation is recognized as an inherited disorder in man, mouse, rat and dog. The major cause of hepatic copper accumulation in man is a dysfunctional ATP7B gene, causing Wilson disease (WD). Mutations in the ATP7B genes have also been demonstrated in mouse and rat. The ATP7B gene has been excluded in the much rarer human copper overload disease non-Indian childhood cirrhosis, indicating genetic heterogeneity. By investigating the common autosomal recessive copper toxicosis (CT) in Bedlington terriers, we have identified a new locus involved in progressive liver disease. We examined whether the WD gene ATP7B was also causative for CT by investigating the chromosomal co-localization of ATP7B and C04107, using fluorescence in situ hybridization (FISH). C04107 is an anonymous microsatellite marker closely linked to CT. However, BAC clones containing ATP7B and C04107 mapped to the canine chromosome regions CFA22q11 and CFA10q26, respectively, demonstrating that WD cannot be homologous to CT. The copper transport genes CTR1 and CTR2 were also excluded as candidate genes for CT since they both mapped to canine chromosome region CFA11q22. 2-22. 5. A transcribed sequence identified from the C04107-containing BAC was found to be homologous to a gene expressed from human chromosome 2p13-p16, a region devoid of any positional candidate genes.')"
      ]
     },
     "execution_count": 13,
     "metadata": {},
     "output_type": "execute_result"
    }
   ],
   "source": [
    "# Extract Abstract\n",
    "match=re.match(regex_title, line_abstract)\n",
    "assert match is None\n",
    "match=re.match(regex_entity, line_abstract)\n",
    "assert match is None\n",
    "match=re.match(regex_abstract, line_abstract)\n",
    "assert match \n",
    "match.groups()"
   ]
  },
  {
   "cell_type": "code",
   "execution_count": 14,
   "id": "pacific-popularity",
   "metadata": {},
   "outputs": [
    {
     "data": {
      "text/plain": [
       "('9949209', '23', '39', 'copper toxicosis', 'Modifier', 'OMIM:215600')"
      ]
     },
     "execution_count": 14,
     "metadata": {},
     "output_type": "execute_result"
    }
   ],
   "source": [
    "# Extract Entities\n",
    "match=re.match(regex_title, line_entity)\n",
    "assert match is None\n",
    "match=re.match(regex_abstract, line_entity)\n",
    "assert match is None\n",
    "match=re.match(regex_entity, line_entity)\n",
    "assert match\n",
    "match.groups()"
   ]
  },
  {
   "cell_type": "code",
   "execution_count": 15,
   "id": "local-wilderness",
   "metadata": {},
   "outputs": [
    {
     "name": "stdout",
     "output_type": "stream",
     "text": [
      "100\n"
     ]
    }
   ],
   "source": [
    "answer_dict={}\n",
    "\n",
    "for i, line in enumerate(open(answer_file)):\n",
    "    match=re.match(regex_title, line)\n",
    "    if match:\n",
    "        pmid=match.group(1)\n",
    "        title=match.group(2)\n",
    "        \n",
    "        if pmid not in answer_dict:\n",
    "            answer_dict[pmid] = {}\n",
    "        answer_dict[pmid]['pmid']=pmid\n",
    "        answer_dict[pmid]['title']=title\n",
    "        \n",
    "    match=re.match(regex_abstract, line)\n",
    "    if match:\n",
    "        pmid=match.group(1)\n",
    "        answer_dict[pmid]['abstract']=match.group(2)\n",
    "        \n",
    "    match=re.match(regex_entity, line)\n",
    "    if match:\n",
    "        pmid=match.group(1)\n",
    "        entity= (int(match.group(2)), int(match.group(3)))\n",
    "        if 'entities' not in answer_dict[pmid]:\n",
    "            answer_dict[pmid]['entities'] = []\n",
    "        answer_dict[pmid]['entities'].append(entity)  \n",
    "        \n",
    "print(len(answer_dict))"
   ]
  },
  {
   "cell_type": "code",
   "execution_count": 16,
   "id": "friendly-front",
   "metadata": {},
   "outputs": [
    {
     "data": {
      "text/plain": [
       "100"
      ]
     },
     "execution_count": 16,
     "metadata": {},
     "output_type": "execute_result"
    }
   ],
   "source": [
    "len(answer_dict)"
   ]
  },
  {
   "cell_type": "code",
   "execution_count": 17,
   "id": "alone-consortium",
   "metadata": {},
   "outputs": [],
   "source": [
    "lines=[]\n",
    "for pmid in answer_dict:\n",
    "    text=mm_dict[pmid]['text']\n",
    "    mm_entities=mm_dict[pmid]['entities']\n",
    "    answer_entities=answer_dict[pmid]['entities']\n",
    "    \n",
    "    mm_set=set(mm_entities)\n",
    "    answer_set=set(answer_entities)\n",
    "    \n",
    "    all_entities=mm_set.union(answer_set)\n",
    "\n",
    "    for loc in all_entities:\n",
    "        pred_val=answer_val=\"O-MISC\"\n",
    "        if loc in mm_set:\n",
    "            pred_val=\"B-MISC\"\n",
    "        if loc in answer_set:\n",
    "            answer_val=\"B-MISC\"\n",
    "\n",
    "        part=text[loc[0]:loc[1]]\n",
    "        for i, token in enumerate(part.split(' ')):\n",
    "            if i != 0:\n",
    "                pred_val=pred_val.replace('B-','I-')\n",
    "                answer_val=answer_val.replace('B-','I-')\n",
    "            lines.append(f\"{token} MISC {answer_val} {pred_val}\")\n",
    "    lines.append('. MISC O O')\n",
    "    lines.append('')"
   ]
  },
  {
   "cell_type": "code",
   "execution_count": 18,
   "id": "worth-simulation",
   "metadata": {},
   "outputs": [],
   "source": [
    "with open(output_file, mode='w') as f:\n",
    "    for line in lines:\n",
    "        f.write(line + '\\n')"
   ]
  },
  {
   "cell_type": "code",
   "execution_count": 19,
   "id": "experimental-delight",
   "metadata": {},
   "outputs": [
    {
     "name": "stdout",
     "output_type": "stream",
     "text": [
      "CT MISC B-MISC O-MISC\r\n",
      "CT MISC B-MISC O-MISC\r\n",
      "Wilson MISC B-MISC B-MISC\r\n",
      "disease MISC I-MISC I-MISC\r\n",
      "Indian MISC O-MISC B-MISC\r\n",
      "childhood MISC O-MISC I-MISC\r\n",
      "cirrhosis MISC O-MISC I-MISC\r\n",
      "toxicosis MISC O-MISC B-MISC\r\n",
      "CT MISC B-MISC O-MISC\r\n",
      "WD MISC B-MISC O-MISC\r\n"
     ]
    }
   ],
   "source": [
    "!head $output_file"
   ]
  },
  {
   "cell_type": "code",
   "execution_count": null,
   "id": "committed-lounge",
   "metadata": {},
   "outputs": [],
   "source": []
  }
 ],
 "metadata": {
  "kernelspec": {
   "display_name": "Python 3",
   "language": "python",
   "name": "python3"
  },
  "language_info": {
   "codemirror_mode": {
    "name": "ipython",
    "version": 3
   },
   "file_extension": ".py",
   "mimetype": "text/x-python",
   "name": "python",
   "nbconvert_exporter": "python",
   "pygments_lexer": "ipython3",
   "version": "3.6.9"
  }
 },
 "nbformat": 4,
 "nbformat_minor": 5
}
